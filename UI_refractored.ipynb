{
 "cells": [
  {
   "cell_type": "markdown",
   "metadata": {},
   "source": [
    "# 과제물 자동 평가 시스템"
   ]
  },
  {
   "cell_type": "code",
   "execution_count": 1,
   "metadata": {},
   "outputs": [],
   "source": [
    "import os\n",
    "import sys\n",
    "from dotenv import load_dotenv\n",
    "\n",
    "# 환경 변수 로드\n",
    "load_dotenv()\n",
    "\n",
    "# 모듈 경로 추가\n",
    "sys.path.append(os.path.abspath('../'))\n",
    "\n",
    "# from managers.checklist_manager import ChecklistCreationManager\n",
    "\n",
    "# 모듈형 위젯 라이브러리 import\n",
    "from refactored import (\n",
    "    create_checklist_interface,\n",
    "    create_evaluation_interface, \n",
    "    create_llm_call_interface,\n",
    "    create_summarize_interface\n",
    ")"
   ]
  },
  {
   "cell_type": "markdown",
   "metadata": {},
   "source": [
    "## 1. 체크리스트 생성 위젯\n",
    "\n",
    "체크리스트 생성 기능을 위한 위젯 인터페이스를 생성합니다."
   ]
  },
  {
   "cell_type": "code",
   "execution_count": 2,
   "metadata": {},
   "outputs": [
    {
     "data": {
      "application/vnd.jupyter.widget-view+json": {
       "model_id": "63c91e8be1b8432c8a6c3c2dcca0e549",
       "version_major": 2,
       "version_minor": 0
      },
      "text/plain": [
       "Tab(children=(VBox(children=(HTML(value='<h3>인풋 입력</h3>'), VBox(children=(Text(value='', description='과목:', pl…"
      ]
     },
     "metadata": {},
     "output_type": "display_data"
    }
   ],
   "source": [
    "# 체크리스트 생성 매니저 생성\n",
    "checklist_ui = create_checklist_interface()\n",
    "checklist_ui.display_all()"
   ]
  },
  {
   "cell_type": "code",
   "execution_count": 15,
   "metadata": {},
   "outputs": [
    {
     "data": {
      "text/plain": [
       "{'subject': '국어',\n",
       " 'title': 'sethosvieht',\n",
       " 'assessment_type': '찬성반대',\n",
       " 'description': ''}"
      ]
     },
     "execution_count": 15,
     "metadata": {},
     "output_type": "execute_result"
    }
   ],
   "source": [
    "checklist_ui.template_component.manager.get_component('input').get_values()"
   ]
  },
  {
   "cell_type": "markdown",
   "metadata": {},
   "source": [
    "#### 예시\n",
    "학년 : 1학년 \\\n",
    "과목 이름 : 국어 \\\n",
    "수행평가 제목 : 비혼주의자에 대한 본인의 의견\\\n",
    "수행평가 유형 : 찬성반대\\\n",
    "수행평가 설명 : 여러분은 결혼을 꼭 해야 한다고 생각하시나요? 아니면 결혼은 선택의 문제라고 생각하시나요? 비혼주의에 대해 찬성하는 입장 반대를 선택하여 자신의 의견을 작성해주세요. 그리고 그렇게 생각한 이유에 대해서 작성해주세요."
   ]
  },
  {
   "cell_type": "markdown",
   "metadata": {},
   "source": [
    "## 2. 과제 평가 위젯\n",
    "\n",
    "학생 과제 평가 기능을 위한 위젯 인터페이스를 생성합니다."
   ]
  },
  {
   "cell_type": "markdown",
   "metadata": {},
   "source": [
    "#### 예시\n",
    "학년 : 1학년 \\\n",
    "과목 이름 : 국어 \\\n",
    "수행평가 제목 : 비혼주의자에 대한 본인의 의견\\\n",
    "수행평가 유형 : 찬성반대\\\n",
    "수행평가 설명 : 여러분은 결혼을 꼭 해야 한다고 생각하시나요? 아니면 결혼은 선택의 문제라고 생각하시나요? 비혼주의에 대해 찬성하는 입장 반대를 선택하여 자신의 의견을 작성해주세요. 그리고 그렇게 생각한 이유에 대해서 작성해주세요."
   ]
  },
  {
   "cell_type": "code",
   "execution_count": null,
   "metadata": {},
   "outputs": [
    {
     "data": {
      "application/vnd.jupyter.widget-view+json": {
       "model_id": "7fc837c2415f4948af8078e9161a6544",
       "version_major": 2,
       "version_minor": 0
      },
      "text/plain": [
       "Tab(children=(VBox(children=(HTML(value='<h3>기본 정보 입력</h3>'), VBox(children=(Dropdown(description='학년:', optio…"
      ]
     },
     "metadata": {},
     "output_type": "display_data"
    }
   ],
   "source": [
    "# 과제 평가 매니저 생성\n",
    "evaluation_ui = create_evaluation_interface()\n",
    "evaluation_ui.display_all()"
   ]
  },
  {
   "cell_type": "code",
   "execution_count": null,
   "metadata": {},
   "outputs": [
    {
     "ename": "AttributeError",
     "evalue": "'AssignmentEvaluationManager' object has no attribute 'get_components'",
     "output_type": "error",
     "traceback": [
      "\u001b[1;31m---------------------------------------------------------------------------\u001b[0m\n",
      "\u001b[1;31mAttributeError\u001b[0m                            Traceback (most recent call last)\n",
      "Cell \u001b[1;32mIn[6], line 1\u001b[0m\n",
      "\u001b[1;32m----> 1\u001b[0m \u001b[43mevaluation_ui\u001b[49m\u001b[38;5;241;43m.\u001b[39;49m\u001b[43mtemplate_component\u001b[49m\u001b[38;5;241;43m.\u001b[39;49m\u001b[43mmanager\u001b[49m\u001b[38;5;241;43m.\u001b[39;49m\u001b[43mget_components\u001b[49m(\u001b[38;5;124m'\u001b[39m\u001b[38;5;124minput\u001b[39m\u001b[38;5;124m'\u001b[39m)\n",
      "\n",
      "\u001b[1;31mAttributeError\u001b[0m: 'AssignmentEvaluationManager' object has no attribute 'get_components'"
     ]
    }
   ],
   "source": [
    "evaluation_ui.template_component.manager.get_components('input')"
   ]
  },
  {
   "cell_type": "markdown",
   "metadata": {},
   "source": [
    "## 3. 단순 LLM API 콜 위젯\n",
    "이 위젯은 단순한 LLM API 호출을 위한 것입니다."
   ]
  },
  {
   "cell_type": "code",
   "execution_count": 4,
   "metadata": {},
   "outputs": [
    {
     "data": {
      "application/vnd.jupyter.widget-view+json": {
       "model_id": "0646bf860b7c4667bf90529ec01e67e0",
       "version_major": 2,
       "version_minor": 0
      },
      "text/plain": [
       "Tab(children=(VBox(children=(HTML(value='<h3>프롬프트 편집</h3>'), VBox(children=(HTML(value='<h3>템플릿 편집</h3>'), Tex…"
      ]
     },
     "metadata": {},
     "output_type": "display_data"
    }
   ],
   "source": [
    "# Create and display the widget manager\n",
    "llm_call_ui = create_llm_call_interface()\n",
    "llm_call_ui.display_all()"
   ]
  },
  {
   "cell_type": "markdown",
   "metadata": {},
   "source": [
    "# 4. 보고서 요약 위젯\n",
    "\n",
    "- 재영 작성"
   ]
  },
  {
   "cell_type": "code",
   "execution_count": 5,
   "metadata": {},
   "outputs": [
    {
     "data": {
      "application/vnd.jupyter.widget-view+json": {
       "model_id": "f694d62b3992421983114381e7595a47",
       "version_major": 2,
       "version_minor": 0
      },
      "text/plain": [
       "Tab(children=(VBox(children=(HTML(value='<h3>기본 정보 입력</h3>'), VBox(children=(Text(value='', description='과목:',…"
      ]
     },
     "metadata": {},
     "output_type": "display_data"
    }
   ],
   "source": [
    "# 보고서 요약 매니저 생성\n",
    "summary_ui = create_summarize_interface()\n",
    "summary_ui.display_all()"
   ]
  }
 ],
 "metadata": {
  "kernelspec": {
   "display_name": "MultiLLM_3.10",
   "language": "python",
   "name": "python3"
  },
  "language_info": {
   "codemirror_mode": {
    "name": "ipython",
    "version": 3
   },
   "file_extension": ".py",
   "mimetype": "text/x-python",
   "name": "python",
   "nbconvert_exporter": "python",
   "pygments_lexer": "ipython3",
   "version": "3.10.9"
  }
 },
 "nbformat": 4,
 "nbformat_minor": 2
}
