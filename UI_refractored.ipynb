{
 "cells": [
  {
   "cell_type": "markdown",
   "metadata": {},
   "source": [
    "# 과제물 자동 평가 시스템"
   ]
  },
  {
   "cell_type": "code",
   "execution_count": 1,
   "metadata": {},
   "outputs": [
    {
     "name": "stdout",
     "output_type": "stream",
     "text": [
      "RAG functionality not available. Install required dependencies if needed.\n"
     ]
    }
   ],
   "source": [
    "import os\n",
    "import sys\n",
    "from dotenv import load_dotenv\n",
    "\n",
    "# 환경 변수 로드\n",
    "load_dotenv()\n",
    "\n",
    "# 모듈 경로 추가\n",
    "sys.path.append(os.path.abspath('../'))\n",
    "\n",
    "# 모듈형 위젯 라이브러리 import\n",
    "from refactored import (\n",
    "    create_checklist_interface,\n",
    "    create_evaluation_interface, \n",
    "    create_llm_call_interface,\n",
    "    create_summarize_interface\n",
    ")"
   ]
  },
  {
   "cell_type": "markdown",
   "metadata": {},
   "source": [
    "## 1. 체크리스트 생성 위젯\n",
    "\n",
    "체크리스트 생성 기능을 위한 위젯 인터페이스를 생성합니다."
   ]
  },
  {
   "cell_type": "code",
   "execution_count": 2,
   "metadata": {},
   "outputs": [
    {
     "data": {
      "application/vnd.jupyter.widget-view+json": {
       "model_id": "578871ea1b3747b69567464e731ef3d5",
       "version_major": 2,
       "version_minor": 0
      },
      "text/plain": [
       "Tab(children=(VBox(children=(HTML(value='<h3>인풋 입력</h3>'), VBox(children=(Text(value='', description='과목:', pl…"
      ]
     },
     "metadata": {},
     "output_type": "display_data"
    }
   ],
   "source": [
    "# 체크리스트 생성 매니저 생성\n",
    "checklist_ui = create_checklist_interface()\n",
    "checklist_ui.display_all()"
   ]
  },
  {
   "cell_type": "markdown",
   "metadata": {},
   "source": [
    "#### 예시\n",
    "학년 : 1학년 \\\n",
    "과목 이름 : 국어 \\\n",
    "수행평가 제목 : 비혼주의자에 대한 본인의 의견\\\n",
    "수행평가 유형 : 찬성반대\\\n",
    "수행평가 설명 : 여러분은 결혼을 꼭 해야 한다고 생각하시나요? 아니면 결혼은 선택의 문제라고 생각하시나요? 비혼주의에 대해 찬성하는 입장 반대를 선택하여 자신의 의견을 작성해주세요. 그리고 그렇게 생각한 이유에 대해서 작성해주세요.\n",
    "\n",
    "학년: 1학년 \\\n",
    "과목 이름 : 국어 \\\n",
    "수행평가 제목 : 영화/독서감상문\\\n",
    "수행평가 유형 : 설명글\\\n",
    "수행평가 설명 :  영화에는 로맨스, 액션, 스릴러 등 정말 많은 장르가 있습니다. 사람마다 좋아하는 장르가 있고 절대 보지 않는 장르도 있습니다.\n",
    "독서도 마찬가지입니다. 소설, 수필, 시, 만화, 위인전 등 여러가지 장르가 있습니다.\n",
    "여러분은 어떤 장르를 좋아하나요? 그리고 해당 장르에서 가장 재미있게 봤던 영화나 책은 무엇인가요?\n",
    "자신이 봤던 영화 혹은 책을 한 편 선정하여 주제와 내용 그리고 느낀점을 감상문으로 작성해주세요.\n",
    "\n",
    "학년: 3학년\\\n",
    "과목 이름 : 국어 \\\n",
    "수행평가 제목 : 나의 진로를 위한 노력\\\n",
    "수행평가 유형 : 설명글\\\n",
    "수행평가 설명 : 여러분들은 내년에 사회인으로서의 첫 발걸음을 딛게 될 것입니다. 무엇을 하고 싶은지 목표를 정한 사람도 있을 것이고 아직 정하지 못한 사람도 있을 거예요. 그런 것을 정하는 시기와 결정은 정해져 있는 게 아니라 본인이 선택하는 것이니깐요.\n",
    "\n",
    "결정한 사람이 있다면 어떤 것을 하고 싶은지 작성해주세요. 그리고 그렇게 생각하게 된 계기와 목표를 이루기 위해 본인이 했던 노력을 작성해주세요. 아직 노력을 시작하지 않았다면, 앞으로 어떤 계획을 하고 있는지 혹은 어떤 계획을 세워야 할지 작성해주세요. 지금 생각해보아도 괜찮아요.\n",
    "\n",
    "아직 결정하지 못하셨다면 자신이 좋아하는 것, 관심 있는 것을 생각해보고 해당 분야에서 이루고 싶은 목표가 무엇인지 생각하고 작성해주세요. 그리고 목표를 이루기 위해 어떤 노력이 필요할지 어떤 준비가 필요할지 자유롭게 작성해보세요."
   ]
  },
  {
   "cell_type": "markdown",
   "metadata": {},
   "source": [
    "## 2. 과제 평가 위젯\n",
    "\n",
    "학생 과제 평가 기능을 위한 위젯 인터페이스를 생성합니다."
   ]
  },
  {
   "cell_type": "code",
   "execution_count": 3,
   "metadata": {},
   "outputs": [
    {
     "data": {
      "application/vnd.jupyter.widget-view+json": {
       "model_id": "66915f7f585444219b8a4be31d3be6ed",
       "version_major": 2,
       "version_minor": 0
      },
      "text/plain": [
       "Tab(children=(VBox(children=(HTML(value='<h3>기본 정보 입력</h3>'), VBox(children=(Dropdown(description='학년:', optio…"
      ]
     },
     "metadata": {},
     "output_type": "display_data"
    }
   ],
   "source": [
    "# 과제 평가 매니저 생성\n",
    "evaluation_ui = create_evaluation_interface()\n",
    "evaluation_ui.display_all()"
   ]
  },
  {
   "cell_type": "markdown",
   "metadata": {},
   "source": [
    "# 3. 보고서 요약 위젯"
   ]
  },
  {
   "cell_type": "code",
   "execution_count": 4,
   "metadata": {},
   "outputs": [
    {
     "data": {
      "application/vnd.jupyter.widget-view+json": {
       "model_id": "975eb13a7d1e4f00a72efd4bd2a5f0c2",
       "version_major": 2,
       "version_minor": 0
      },
      "text/plain": [
       "Tab(children=(VBox(children=(HTML(value='<h3>기본 정보 입력</h3>'), VBox(children=(Text(value='', description='과목:',…"
      ]
     },
     "metadata": {},
     "output_type": "display_data"
    }
   ],
   "source": [
    "# 보고서 요약 매니저 생성\n",
    "summary_ui = create_summarize_interface()\n",
    "summary_ui.display_all()"
   ]
  },
  {
   "cell_type": "markdown",
   "metadata": {},
   "source": [
    "## 4. 단순 LLM API 콜 위젯\n",
    "이 위젯은 단순한 LLM API 호출을 위한 것입니다."
   ]
  },
  {
   "cell_type": "code",
   "execution_count": null,
   "metadata": {},
   "outputs": [
    {
     "data": {
      "application/vnd.jupyter.widget-view+json": {
       "model_id": "28645cb46af54161b44f38cc8958e4e1",
       "version_major": 2,
       "version_minor": 0
      },
      "text/plain": [
       "Tab(children=(VBox(children=(HTML(value='<h3>프롬프트 편집</h3>'), VBox(children=(HTML(value='<h3>템플릿 편집</h3>'), Tex…"
      ]
     },
     "metadata": {},
     "output_type": "display_data"
    }
   ],
   "source": [
    "# Create and display the widget manager\n",
    "llm_call_ui = create_llm_call_interface()\n",
    "llm_call_ui.display_all()"
   ]
  },
  {
   "cell_type": "code",
   "execution_count": null,
   "metadata": {},
   "outputs": [],
   "source": []
  }
 ],
 "metadata": {
  "kernelspec": {
   "display_name": "MultiLLM_3.10",
   "language": "python",
   "name": "python3"
  },
  "language_info": {
   "codemirror_mode": {
    "name": "ipython",
    "version": 3
   },
   "file_extension": ".py",
   "mimetype": "text/x-python",
   "name": "python",
   "nbconvert_exporter": "python",
   "pygments_lexer": "ipython3",
   "version": "3.10.9"
  }
 },
 "nbformat": 4,
 "nbformat_minor": 2
}
