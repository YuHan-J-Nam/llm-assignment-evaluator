{
 "cells": [
  {
   "cell_type": "markdown",
   "metadata": {},
   "source": [
    "# 과제물 자동 평가 시스템"
   ]
  },
  {
   "cell_type": "code",
   "execution_count": 1,
   "metadata": {},
   "outputs": [],
   "source": [
    "import os\n",
    "import sys\n",
    "from dotenv import load_dotenv\n",
    "\n",
    "# 환경 변수 로드\n",
    "load_dotenv()\n",
    "\n",
    "# 모듈 경로 추가\n",
    "sys.path.append(os.path.abspath('../'))\n",
    "\n",
    "# 모듈형 위젯 라이브러리 import\n",
    "from widgets_core import (\n",
    "    ChecklistCreationManager,\n",
    "    AssignmentEvaluationManager,\n",
    "    LlmCallManager\n",
    ")"
   ]
  },
  {
   "cell_type": "markdown",
   "metadata": {},
   "source": [
    "## 1. 체크리스트 생성 위젯\n",
    "\n",
    "체크리스트 생성 기능을 위한 위젯 인터페이스를 생성합니다."
   ]
  },
  {
   "cell_type": "code",
   "execution_count": 2,
   "metadata": {},
   "outputs": [
    {
     "data": {
      "application/vnd.jupyter.widget-view+json": {
       "model_id": "78f9004871dc456db28505433b2243f2",
       "version_major": 2,
       "version_minor": 0
      },
      "text/plain": [
       "Tab(children=(VBox(children=(HTML(value='<h3>인풋 입력</h3>'), VBox(children=(Text(value='', description='과목:', pl…"
      ]
     },
     "metadata": {},
     "output_type": "display_data"
    }
   ],
   "source": [
    "# 체크리스트 생성 매니저 생성\n",
    "checklist_manager = ChecklistCreationManager()\n",
    "\n",
    "# 위젯 표시\n",
    "checklist_manager.display_all()"
   ]
  },
  {
   "cell_type": "markdown",
   "metadata": {},
   "source": [
    "#### 예시\n",
    "학년 : 1학년 \\\n",
    "과목 이름 : 국어 \\\n",
    "수행평가 제목 : 비혼주의자에 대한 본인의 의견\\\n",
    "수행평가 유형 : 찬성반대\\\n",
    "수행평가 설명 : 여러분은 결혼을 꼭 해야 한다고 생각하시나요? 아니면 결혼은 선택의 문제라고 생각하시나요? 비혼주의에 대해 찬성하는 입장 반대를 선택하여 자신의 의견을 작성해주세요. 그리고 그렇게 생각한 이유에 대해서 작성해주세요."
   ]
  },
  {
   "cell_type": "markdown",
   "metadata": {},
   "source": [
    "## 2. 과제 평가 위젯\n",
    "\n",
    "학생 과제 평가 기능을 위한 위젯 인터페이스를 생성합니다."
   ]
  },
  {
   "cell_type": "markdown",
   "metadata": {},
   "source": [
    "#### 예시\n",
    "학년 : 1학년 \\\n",
    "과목 이름 : 국어 \\\n",
    "수행평가 제목 : 비혼주의자에 대한 본인의 의견\\\n",
    "수행평가 유형 : 찬성반대\\\n",
    "수행평가 설명 : 여러분은 결혼을 꼭 해야 한다고 생각하시나요? 아니면 결혼은 선택의 문제라고 생각하시나요? 비혼주의에 대해 찬성하는 입장 반대를 선택하여 자신의 의견을 작성해주세요. 그리고 그렇게 생각한 이유에 대해서 작성해주세요."
   ]
  },
  {
   "cell_type": "code",
   "execution_count": 3,
   "metadata": {},
   "outputs": [
    {
     "data": {
      "application/vnd.jupyter.widget-view+json": {
       "model_id": "d909e6cb1d66471194b826e4dd2b6b91",
       "version_major": 2,
       "version_minor": 0
      },
      "text/plain": [
       "Tab(children=(VBox(children=(HTML(value='<h3>인풋 입력</h3>'), VBox(children=(Dropdown(description='학년:', options=…"
      ]
     },
     "metadata": {},
     "output_type": "display_data"
    }
   ],
   "source": [
    "# 과제 평가 매니저 생성\n",
    "evaluation_manager = AssignmentEvaluationManager()\n",
    "\n",
    "# 위젯 표시\n",
    "evaluation_manager.display_all()"
   ]
  },
  {
   "cell_type": "markdown",
   "metadata": {},
   "source": [
    "## 3. 단순 LLM API 콜 위젯\n",
    "이 위젯은 단순한 LLM API 호출을 위한 것입니다."
   ]
  },
  {
   "cell_type": "code",
   "execution_count": 5,
   "metadata": {},
   "outputs": [
    {
     "data": {
      "application/vnd.jupyter.widget-view+json": {
       "model_id": "360ef0e15a9b48cd9886797091538cb4",
       "version_major": 2,
       "version_minor": 0
      },
      "text/plain": [
       "Tab(children=(VBox(children=(HTML(value='<h3>프롬프트 편집</h3>'), VBox(children=(HTML(value='<h3>템플릿 편집</h3>'), Tex…"
      ]
     },
     "metadata": {},
     "output_type": "display_data"
    }
   ],
   "source": [
    "# Create and display the widget manager\n",
    "manager = LlmCallManager()\n",
    "manager.display_all()"
   ]
  }
 ],
 "metadata": {
  "kernelspec": {
   "display_name": "MultiLLM_3.10",
   "language": "python",
   "name": "python3"
  },
  "language_info": {
   "codemirror_mode": {
    "name": "ipython",
    "version": 3
   },
   "file_extension": ".py",
   "mimetype": "text/x-python",
   "name": "python",
   "nbconvert_exporter": "python",
   "pygments_lexer": "ipython3",
   "version": "3.10.16"
  }
 },
 "nbformat": 4,
 "nbformat_minor": 2
}
